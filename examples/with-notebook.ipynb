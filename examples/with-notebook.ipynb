{
 "cells": [
  {
   "cell_type": "code",
   "execution_count": 1,
   "id": "81a056c4-93c3-4cfa-9dde-914da33e5bb5",
   "metadata": {
    "execution": {
     "iopub.execute_input": "2022-07-05T19:07:47.846465Z",
     "iopub.status.busy": "2022-07-05T19:07:47.845485Z",
     "iopub.status.idle": "2022-07-05T19:07:51.711353Z",
     "shell.execute_reply": "2022-07-05T19:07:51.710510Z",
     "shell.execute_reply.started": "2022-07-05T19:07:47.846269Z"
    },
    "tags": []
   },
   "outputs": [
    {
     "name": "stderr",
     "output_type": "stream",
     "text": [
      "2022-07-05 15:07:51.403 | DEBUG    | pymmcore_plus._util:find_micromanager:47 - using MM path found in applications: /usr/local/lib/micro-manager\n",
      "2022-07-05 15:07:51.404 | INFO     | pymmcore_plus.core._mmcore_plus:setDeviceAdapterSearchPaths:152 - setting adapter search paths: ['/usr/local/lib/micro-manager']\n",
      "2022-07-05 15:07:51.613 | DEBUG    | pymmcore_plus._util:find_micromanager:47 - using MM path found in applications: /usr/local/lib/micro-manager\n"
     ]
    }
   ],
   "source": [
    "%matplotlib ipympl\n",
    "from pathlib import Path\n",
    "\n",
    "import matplotlib.pyplot as plt\n",
    "import napari\n",
    "import numpy as np\n",
    "import tifffile\n",
    "from aicsimageio.readers import TiffGlobReader\n",
    "from ipywidgets import Output\n",
    "from mda_simulator import ImageGenerator\n",
    "from mpl_interactions import hyperslicer\n",
    "from napari_broadcastable_points import BroadcastablePoints\n",
    "from pymmcore_plus import CMMCorePlus\n",
    "from useq import MDASequence\n",
    "\n",
    "from raman_mda_engine import RamanEngine, RamanTiffAndNumpyWriter, fakeAcquirer\n",
    "from mda_simulator.mmcore import FakeDemoCamera\n",
    "\n",
    "v = napari.Viewer()\n",
    "dw, main_window = v.window.add_plugin_dock_widget(\"napari-micromanager\")\n",
    "\n",
    "core = CMMCorePlus.instance()\n",
    "core.loadSystemConfiguration(\"../tests/test-config.cfg\")\n",
    "\n",
    "gen = ImageGenerator(N=4000)\n",
    "\n",
    "\n",
    "# Create an object that will modify the `snap` method of the CMMCorePlus\n",
    "# instance to return images from our ImageGenerator\n",
    "fake_cam = FakeDemoCamera(\n",
    "    gen,\n",
    "    timing=0.5,  # how many real world seconds to wait to step the ImageGenerator time\n",
    "    core=core,\n",
    ")\n",
    "\n",
    "\n",
    "metadata = {\n",
    "    \"raman\": {\n",
    "        \"z\": \"center\",\n",
    "        \"channel\": \"BF\",\n",
    "    },\n",
    "}\n",
    "init_sequence = MDASequence(\n",
    "    channels=[\"BF\"],\n",
    "    time_plan={\"interval\": 0.5, \"loops\": 2},\n",
    "    z_plan={\"range\": 50, \"step\": 5},\n",
    "    axis_order=\"tpcz\",\n",
    "    stage_positions=[(0, 1, 1), (512, 128, 0)],\n",
    ")\n",
    "\n",
    "# points = v.add_points(ndim=4)\n",
    "\n"
   ]
  },
  {
   "cell_type": "code",
   "execution_count": 2,
   "id": "c3b8d0d3-1699-40ec-bfcb-e7212e9b39f3",
   "metadata": {
    "execution": {
     "iopub.execute_input": "2022-07-05T19:07:51.725930Z",
     "iopub.status.busy": "2022-07-05T19:07:51.725335Z",
     "iopub.status.idle": "2022-07-05T19:07:51.742183Z",
     "shell.execute_reply": "2022-07-05T19:07:51.740724Z",
     "shell.execute_reply.started": "2022-07-05T19:07:51.725876Z"
    },
    "tags": []
   },
   "outputs": [
    {
     "name": "stderr",
     "output_type": "stream",
     "text": [
      "2022-07-05 15:07:51.736 | INFO     | pymmcore_plus.mda._engine:_prepare_to_run:122 - MDA Started: Multi-Dimensional Acquisition ▶ nt: 2, np: 2, nc: 1, nz: 11\n",
      "2022-07-05 15:07:51.738 | INFO     | pymmcore_plus.mda._engine:run:260 - metadata={} index={'t': 0, 'p': 0, 'c': 0, 'z': 0} channel=Channel(config='BF') exposure=None min_start_time=0.0 x_pos=0.0 y_pos=1.0 z_pos=-24.0 properties=None\n"
     ]
    }
   ],
   "source": [
    "mda_output = Output()\n",
    "with mda_output:\n",
    "    core.run_mda(init_sequence)\n",
    "    # .join()\n",
    "\n"
   ]
  },
  {
   "cell_type": "code",
   "execution_count": 3,
   "id": "8ab48544-8b89-43fd-869c-5976f717a9f6",
   "metadata": {
    "execution": {
     "iopub.execute_input": "2022-07-05T19:08:10.801905Z",
     "iopub.status.busy": "2022-07-05T19:08:10.801613Z",
     "iopub.status.idle": "2022-07-05T19:08:10.806884Z",
     "shell.execute_reply": "2022-07-05T19:08:10.805875Z",
     "shell.execute_reply.started": "2022-07-05T19:08:10.801880Z"
    }
   },
   "outputs": [],
   "source": [
    "engine = RamanEngine(spectra_collector=fakeAcquirer(), position_idx=1)\n",
    "core.register_mda_engine(engine)\n"
   ]
  },
  {
   "cell_type": "code",
   "execution_count": 4,
   "id": "65b6a6fc-3515-4b25-ab1c-ce64fc5058e4",
   "metadata": {
    "execution": {
     "iopub.execute_input": "2022-07-05T19:08:11.377500Z",
     "iopub.status.busy": "2022-07-05T19:08:11.377048Z",
     "iopub.status.idle": "2022-07-05T19:08:11.385477Z",
     "shell.execute_reply": "2022-07-05T19:08:11.384526Z",
     "shell.execute_reply.started": "2022-07-05T19:08:11.377465Z"
    },
    "tags": []
   },
   "outputs": [
    {
     "data": {
      "text/plain": [
       "(512, 512)"
      ]
     },
     "execution_count": 4,
     "metadata": {},
     "output_type": "execute_result"
    }
   ],
   "source": [
    "core.getImageWidth(), core.getImageHeight()"
   ]
  },
  {
   "cell_type": "code",
   "execution_count": 5,
   "id": "db244755-84e4-4812-973c-2bd79b66e696",
   "metadata": {
    "execution": {
     "iopub.execute_input": "2022-07-05T19:09:28.539711Z",
     "iopub.status.busy": "2022-07-05T19:09:28.539275Z",
     "iopub.status.idle": "2022-07-05T19:09:28.938703Z",
     "shell.execute_reply": "2022-07-05T19:09:28.937657Z",
     "shell.execute_reply.started": "2022-07-05T19:09:28.539675Z"
    },
    "tags": []
   },
   "outputs": [],
   "source": [
    "cell_points = BroadcastablePoints(\n",
    "    None,\n",
    "    #               t, c, z\n",
    "    broadcast_dims=(0, 2, 3),\n",
    "    ndim=6,\n",
    "    name=\"Cells\",\n",
    "    size=15,\n",
    "    face_color=\"#aa0000ff\",\n",
    "    edge_color=\"#5500ffff\",\n",
    ")\n",
    "bkd_points = BroadcastablePoints(\n",
    "    None,\n",
    "    #               t, c, z\n",
    "    broadcast_dims=(0, 2, 3),\n",
    "    ndim=6,\n",
    "    name=\"Bkd points\",\n",
    "    size=15,\n",
    "    face_color=\"#2d1f7f\",\n",
    "    edge_color=\"#5500ffff\",\n",
    ")\n",
    "\n",
    "v.add_layer(cell_points)\n",
    "v.add_layer(bkd_points)\n",
    "engine.points_layers = [cell_points, bkd_points]"
   ]
  },
  {
   "cell_type": "code",
   "execution_count": 6,
   "id": "88e9dd85-76b9-403f-ab9b-e7e4e55c0f2a",
   "metadata": {
    "execution": {
     "iopub.execute_input": "2022-07-05T19:10:15.783352Z",
     "iopub.status.busy": "2022-07-05T19:10:15.782984Z",
     "iopub.status.idle": "2022-07-05T19:10:15.792669Z",
     "shell.execute_reply": "2022-07-05T19:10:15.792063Z",
     "shell.execute_reply.started": "2022-07-05T19:10:15.783329Z"
    },
    "tags": []
   },
   "outputs": [
    {
     "name": "stderr",
     "output_type": "stream",
     "text": [
      "2022-07-05 15:10:15.787 | INFO     | pymmcore_plus.mda._engine:_prepare_to_run:122 - MDA Started: Multi-Dimensional Acquisition ▶ nt: 3, np: 2, nc: 1, nz: 3\n"
     ]
    },
    {
     "data": {
      "text/plain": [
       "<Thread(Thread-6 (run), started 140274162193984)>"
      ]
     },
     "execution_count": 6,
     "metadata": {},
     "output_type": "execute_result"
    },
    {
     "name": "stderr",
     "output_type": "stream",
     "text": [
      "2022-07-05 15:10:15.789 | INFO     | raman_mda_engine._engine:run:172 - metadata={} index={'t': 0, 'p': 0, 'c': 0, 'z': 0} channel=Channel(config='BF') exposure=None min_start_time=0.0 x_pos=0.0 y_pos=1.0 z_pos=-14.0 properties=None\n",
      "2022-07-05 15:10:15.838 | INFO     | raman_mda_engine._engine:run:172 - metadata={} index={'t': 0, 'p': 0, 'c': 0, 'z': 1} channel=Channel(config='BF') exposure=None min_start_time=0.0 x_pos=0.0 y_pos=1.0 z_pos=1.0 properties=None\n",
      "2022-07-05 15:10:15.847 | INFO     | raman_mda_engine._engine:record_raman:134 - collecting raman: p=0, t=0\n",
      "2022-07-05 15:10:15.861 | INFO     | raman_mda_engine._engine:run:172 - metadata={} index={'t': 0, 'p': 0, 'c': 0, 'z': 2} channel=Channel(config='BF') exposure=None min_start_time=0.0 x_pos=0.0 y_pos=1.0 z_pos=16.0 properties=None\n",
      "2022-07-05 15:10:15.870 | INFO     | raman_mda_engine._engine:run:172 - metadata={} index={'t': 0, 'p': 1, 'c': 0, 'z': 0} channel=Channel(config='BF') exposure=None min_start_time=0.0 x_pos=512.0 y_pos=128.0 z_pos=-15.0 properties=None\n",
      "2022-07-05 15:10:15.938 | INFO     | raman_mda_engine._engine:run:172 - metadata={} index={'t': 0, 'p': 1, 'c': 0, 'z': 1} channel=Channel(config='BF') exposure=None min_start_time=0.0 x_pos=512.0 y_pos=128.0 z_pos=0.0 properties=None\n",
      "2022-07-05 15:10:15.955 | INFO     | raman_mda_engine._engine:record_raman:134 - collecting raman: p=1, t=0\n",
      "2022-07-05 15:10:15.966 | INFO     | raman_mda_engine._engine:run:172 - metadata={} index={'t': 0, 'p': 1, 'c': 0, 'z': 2} channel=Channel(config='BF') exposure=None min_start_time=0.0 x_pos=512.0 y_pos=128.0 z_pos=15.0 properties=None\n"
     ]
    }
   ],
   "source": [
    "basic_sequence = MDASequence(\n",
    "    metadata={\"raman\": {\"z\": \"center\"}},\n",
    "    channels=[\"BF\"],\n",
    "    time_plan={\"interval\": 60, \"loops\": 3},\n",
    "    # z_plan={\"range\": 30, \"step\": 10},\n",
    "    z_plan={\"relative\": [-15, 0, 15]},\n",
    "    axis_order=\"tpcz\",\n",
    "    stage_positions=[(0, 1, 1), (512, 128, 0)],\n",
    ")\n",
    "core.run_mda(basic_sequence)"
   ]
  },
  {
   "cell_type": "code",
   "execution_count": null,
   "id": "d91bd0aa-5bc6-46bf-b205-7945ad266928",
   "metadata": {
    "tags": []
   },
   "outputs": [],
   "source": []
  },
  {
   "cell_type": "code",
   "execution_count": 7,
   "id": "8281a913-c8f3-4264-8df8-44d11c2aa9a2",
   "metadata": {
    "execution": {
     "iopub.execute_input": "2022-07-05T19:10:19.513208Z",
     "iopub.status.busy": "2022-07-05T19:10:19.512782Z",
     "iopub.status.idle": "2022-07-05T19:10:23.146527Z",
     "shell.execute_reply": "2022-07-05T19:10:23.145097Z",
     "shell.execute_reply.started": "2022-07-05T19:10:19.513172Z"
    },
    "tags": []
   },
   "outputs": [
    {
     "ename": "FileNotFoundError",
     "evalue": "[Errno 2] No such file or directory: '/home/ian/Documents/oss/micro/raman-mda-engine/examples/data/run_5/t000_p000_c000_z000.tiff'",
     "output_type": "error",
     "traceback": [
      "\u001b[0;31m---------------------------------------------------------------------------\u001b[0m",
      "\u001b[0;31mFileNotFoundError\u001b[0m                         Traceback (most recent call last)",
      "Input \u001b[0;32mIn [7]\u001b[0m, in \u001b[0;36m<cell line: 2>\u001b[0;34m()\u001b[0m\n\u001b[1;32m      1\u001b[0m plt\u001b[38;5;241m.\u001b[39mfigure()\n\u001b[0;32m----> 2\u001b[0m plt\u001b[38;5;241m.\u001b[39mimshow(\u001b[43mtifffile\u001b[49m\u001b[38;5;241;43m.\u001b[39;49m\u001b[43mimread\u001b[49m\u001b[43m(\u001b[49m\u001b[38;5;124;43m\"\u001b[39;49m\u001b[38;5;124;43mdata/run_5/t000_p000_c000_z000.tiff\u001b[39;49m\u001b[38;5;124;43m\"\u001b[39;49m\u001b[43m)\u001b[49m)\n",
      "File \u001b[0;32m~/mambaforge/envs/pymm/lib/python3.10/site-packages/tifffile/tifffile.py:973\u001b[0m, in \u001b[0;36mimread\u001b[0;34m(files, aszarr, key, series, level, squeeze, maxworkers, name, offset, size, pattern, axesorder, categories, imread, sort, container, axestiled, ioworkers, chunkmode, fillvalue, zattrs, _multifile, _useframes, **kwargs)\u001b[0m\n\u001b[1;32m    968\u001b[0m     files \u001b[38;5;241m=\u001b[39m files[\u001b[38;5;241m0\u001b[39m]\n\u001b[1;32m    970\u001b[0m \u001b[38;5;28;01mif\u001b[39;00m \u001b[38;5;28misinstance\u001b[39m(files, \u001b[38;5;28mstr\u001b[39m) \u001b[38;5;129;01mor\u001b[39;00m \u001b[38;5;129;01mnot\u001b[39;00m \u001b[38;5;28misinstance\u001b[39m(\n\u001b[1;32m    971\u001b[0m     files, collections\u001b[38;5;241m.\u001b[39mabc\u001b[38;5;241m.\u001b[39mSequence\n\u001b[1;32m    972\u001b[0m ):\n\u001b[0;32m--> 973\u001b[0m     \u001b[38;5;28;01mwith\u001b[39;00m \u001b[43mTiffFile\u001b[49m\u001b[43m(\u001b[49m\n\u001b[1;32m    974\u001b[0m \u001b[43m        \u001b[49m\u001b[43mfiles\u001b[49m\u001b[43m,\u001b[49m\n\u001b[1;32m    975\u001b[0m \u001b[43m        \u001b[49m\u001b[43mname\u001b[49m\u001b[38;5;241;43m=\u001b[39;49m\u001b[43mname\u001b[49m\u001b[43m,\u001b[49m\n\u001b[1;32m    976\u001b[0m \u001b[43m        \u001b[49m\u001b[43moffset\u001b[49m\u001b[38;5;241;43m=\u001b[39;49m\u001b[43moffset\u001b[49m\u001b[43m,\u001b[49m\n\u001b[1;32m    977\u001b[0m \u001b[43m        \u001b[49m\u001b[43msize\u001b[49m\u001b[38;5;241;43m=\u001b[39;49m\u001b[43msize\u001b[49m\u001b[43m,\u001b[49m\n\u001b[1;32m    978\u001b[0m \u001b[43m        \u001b[49m\u001b[43m_multifile\u001b[49m\u001b[38;5;241;43m=\u001b[39;49m\u001b[43m_multifile\u001b[49m\u001b[43m,\u001b[49m\n\u001b[1;32m    979\u001b[0m \u001b[43m        \u001b[49m\u001b[43m_useframes\u001b[49m\u001b[38;5;241;43m=\u001b[39;49m\u001b[43m_useframes\u001b[49m\u001b[43m,\u001b[49m\n\u001b[1;32m    980\u001b[0m \u001b[43m        \u001b[49m\u001b[38;5;241;43m*\u001b[39;49m\u001b[38;5;241;43m*\u001b[39;49m\u001b[43mis_flags\u001b[49m\u001b[43m,\u001b[49m\n\u001b[1;32m    981\u001b[0m \u001b[43m    \u001b[49m\u001b[43m)\u001b[49m \u001b[38;5;28;01mas\u001b[39;00m tif:\n\u001b[1;32m    982\u001b[0m         \u001b[38;5;28;01mif\u001b[39;00m aszarr:\n\u001b[1;32m    983\u001b[0m             \u001b[38;5;28;01massert\u001b[39;00m key \u001b[38;5;129;01mis\u001b[39;00m \u001b[38;5;28;01mNone\u001b[39;00m \u001b[38;5;129;01mor\u001b[39;00m \u001b[38;5;28misinstance\u001b[39m(key, \u001b[38;5;28mint\u001b[39m)\n",
      "File \u001b[0;32m~/mambaforge/envs/pymm/lib/python3.10/site-packages/tifffile/tifffile.py:3598\u001b[0m, in \u001b[0;36mTiffFile.__init__\u001b[0;34m(self, file, mode, name, offset, size, _multifile, _useframes, _parent, **kwargs)\u001b[0m\n\u001b[1;32m   3595\u001b[0m \u001b[38;5;28;01mif\u001b[39;00m mode \u001b[38;5;129;01mnot\u001b[39;00m \u001b[38;5;129;01min\u001b[39;00m (\u001b[38;5;28;01mNone\u001b[39;00m, \u001b[38;5;124m'\u001b[39m\u001b[38;5;124mrb\u001b[39m\u001b[38;5;124m'\u001b[39m, \u001b[38;5;124m'\u001b[39m\u001b[38;5;124mr+b\u001b[39m\u001b[38;5;124m'\u001b[39m):\n\u001b[1;32m   3596\u001b[0m     \u001b[38;5;28;01mraise\u001b[39;00m \u001b[38;5;167;01mValueError\u001b[39;00m(\u001b[38;5;124mf\u001b[39m\u001b[38;5;124m'\u001b[39m\u001b[38;5;124minvalid mode \u001b[39m\u001b[38;5;132;01m{\u001b[39;00mmode\u001b[38;5;132;01m!r}\u001b[39;00m\u001b[38;5;124m'\u001b[39m)\n\u001b[0;32m-> 3598\u001b[0m fh \u001b[38;5;241m=\u001b[39m \u001b[43mFileHandle\u001b[49m\u001b[43m(\u001b[49m\u001b[43mfile\u001b[49m\u001b[43m,\u001b[49m\u001b[43m \u001b[49m\u001b[43mmode\u001b[49m\u001b[38;5;241;43m=\u001b[39;49m\u001b[43mmode\u001b[49m\u001b[43m,\u001b[49m\u001b[43m \u001b[49m\u001b[43mname\u001b[49m\u001b[38;5;241;43m=\u001b[39;49m\u001b[43mname\u001b[49m\u001b[43m,\u001b[49m\u001b[43m \u001b[49m\u001b[43moffset\u001b[49m\u001b[38;5;241;43m=\u001b[39;49m\u001b[43moffset\u001b[49m\u001b[43m,\u001b[49m\u001b[43m \u001b[49m\u001b[43msize\u001b[49m\u001b[38;5;241;43m=\u001b[39;49m\u001b[43msize\u001b[49m\u001b[43m)\u001b[49m\n\u001b[1;32m   3599\u001b[0m \u001b[38;5;28mself\u001b[39m\u001b[38;5;241m.\u001b[39m_fh \u001b[38;5;241m=\u001b[39m fh\n\u001b[1;32m   3600\u001b[0m \u001b[38;5;28mself\u001b[39m\u001b[38;5;241m.\u001b[39m_multifile \u001b[38;5;241m=\u001b[39m \u001b[38;5;28;01mTrue\u001b[39;00m \u001b[38;5;28;01mif\u001b[39;00m _multifile \u001b[38;5;129;01mis\u001b[39;00m \u001b[38;5;28;01mNone\u001b[39;00m \u001b[38;5;28;01melse\u001b[39;00m \u001b[38;5;28mbool\u001b[39m(_multifile)\n",
      "File \u001b[0;32m~/mambaforge/envs/pymm/lib/python3.10/site-packages/tifffile/tifffile.py:11829\u001b[0m, in \u001b[0;36mFileHandle.__init__\u001b[0;34m(self, file, mode, name, offset, size)\u001b[0m\n\u001b[1;32m  11827\u001b[0m \u001b[38;5;28mself\u001b[39m\u001b[38;5;241m.\u001b[39m_close \u001b[38;5;241m=\u001b[39m \u001b[38;5;28;01mTrue\u001b[39;00m\n\u001b[1;32m  11828\u001b[0m \u001b[38;5;28mself\u001b[39m\u001b[38;5;241m.\u001b[39m_lock \u001b[38;5;241m=\u001b[39m NullContext()\n\u001b[0;32m> 11829\u001b[0m \u001b[38;5;28;43mself\u001b[39;49m\u001b[38;5;241;43m.\u001b[39;49m\u001b[43mopen\u001b[49m\u001b[43m(\u001b[49m\u001b[43m)\u001b[49m\n\u001b[1;32m  11830\u001b[0m \u001b[38;5;28;01massert\u001b[39;00m \u001b[38;5;28mself\u001b[39m\u001b[38;5;241m.\u001b[39m_fh \u001b[38;5;129;01mis\u001b[39;00m \u001b[38;5;129;01mnot\u001b[39;00m \u001b[38;5;28;01mNone\u001b[39;00m\n\u001b[1;32m  11831\u001b[0m \u001b[38;5;28;01mtry\u001b[39;00m:\n",
      "File \u001b[0;32m~/mambaforge/envs/pymm/lib/python3.10/site-packages/tifffile/tifffile.py:11848\u001b[0m, in \u001b[0;36mFileHandle.open\u001b[0;34m(self)\u001b[0m\n\u001b[1;32m  11846\u001b[0m \u001b[38;5;28mself\u001b[39m\u001b[38;5;241m.\u001b[39m_file \u001b[38;5;241m=\u001b[39m os\u001b[38;5;241m.\u001b[39mpath\u001b[38;5;241m.\u001b[39mrealpath(\u001b[38;5;28mself\u001b[39m\u001b[38;5;241m.\u001b[39m_file)\n\u001b[1;32m  11847\u001b[0m \u001b[38;5;28mself\u001b[39m\u001b[38;5;241m.\u001b[39m_dir, \u001b[38;5;28mself\u001b[39m\u001b[38;5;241m.\u001b[39m_name \u001b[38;5;241m=\u001b[39m os\u001b[38;5;241m.\u001b[39mpath\u001b[38;5;241m.\u001b[39msplit(\u001b[38;5;28mself\u001b[39m\u001b[38;5;241m.\u001b[39m_file)\n\u001b[0;32m> 11848\u001b[0m \u001b[38;5;28mself\u001b[39m\u001b[38;5;241m.\u001b[39m_fh \u001b[38;5;241m=\u001b[39m \u001b[38;5;28;43mopen\u001b[39;49m\u001b[43m(\u001b[49m\u001b[38;5;28;43mself\u001b[39;49m\u001b[38;5;241;43m.\u001b[39;49m\u001b[43m_file\u001b[49m\u001b[43m,\u001b[49m\u001b[43m \u001b[49m\u001b[38;5;28;43mself\u001b[39;49m\u001b[38;5;241;43m.\u001b[39;49m\u001b[43m_mode\u001b[49m\u001b[43m)\u001b[49m  \u001b[38;5;66;03m# type: ignore\u001b[39;00m\n\u001b[1;32m  11849\u001b[0m \u001b[38;5;28mself\u001b[39m\u001b[38;5;241m.\u001b[39m_close \u001b[38;5;241m=\u001b[39m \u001b[38;5;28;01mTrue\u001b[39;00m\n\u001b[1;32m  11850\u001b[0m \u001b[38;5;28;01mif\u001b[39;00m \u001b[38;5;28mself\u001b[39m\u001b[38;5;241m.\u001b[39m_offset \u001b[38;5;241m<\u001b[39m \u001b[38;5;241m0\u001b[39m:\n",
      "\u001b[0;31mFileNotFoundError\u001b[0m: [Errno 2] No such file or directory: '/home/ian/Documents/oss/micro/raman-mda-engine/examples/data/run_5/t000_p000_c000_z000.tiff'"
     ]
    },
    {
     "data": {
      "application/vnd.jupyter.widget-view+json": {
       "model_id": "755986a500f6471498bbf82d771e3e3b",
       "version_major": 2,
       "version_minor": 0
      },
      "image/png": "[encoded data removed]",
      "text/html": [
       "\n",
       "            <div style=\"display: inline-block;\">\n",
       "                <div class=\"jupyter-widgets widget-label\" style=\"text-align: center;\">\n",
       "                    Figure\n",
       "                </div>\n",
       "                <img src='data:image/png;base64,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' width=640.0/>\n",
       "            </div>\n",
       "        "
      ],
      "text/plain": [
       "Canvas(toolbar=Toolbar(toolitems=[('Home', 'Reset original view', 'home', 'home'), ('Back', 'Back to previous …"
      ]
     },
     "metadata": {},
     "output_type": "display_data"
    }
   ],
   "source": [
    "plt.figure()\n",
    "plt.imshow(tifffile.imread(\"data/run_5/t000_p000_c000_z000.tiff\"))"
   ]
  },
  {
   "cell_type": "code",
   "execution_count": null,
   "id": "c3d89df7-0e54-4085-8d24-2f93ded181c7",
   "metadata": {},
   "outputs": [],
   "source": []
  },
  {
   "cell_type": "code",
   "execution_count": null,
   "id": "a0969a95-e7c8-4854-8593-4fe01217db1a",
   "metadata": {},
   "outputs": [],
   "source": []
  },
  {
   "cell_type": "code",
   "execution_count": null,
   "id": "738ae22f-86f5-4d21-9172-e06d5cb62509",
   "metadata": {},
   "outputs": [],
   "source": []
  },
  {
   "cell_type": "code",
   "execution_count": null,
   "id": "ab3cfaf4-b407-4f0f-ae56-808bee8f5d08",
   "metadata": {},
   "outputs": [],
   "source": []
  },
  {
   "cell_type": "code",
   "execution_count": null,
   "id": "0bb1123e-ebc8-4f2f-bdce-3fd77a81de30",
   "metadata": {},
   "outputs": [],
   "source": []
  },
  {
   "cell_type": "code",
   "execution_count": null,
   "id": "be13c07c-3987-4cea-b98c-5cb5f744f240",
   "metadata": {},
   "outputs": [],
   "source": []
  },
  {
   "cell_type": "code",
   "execution_count": null,
   "id": "a5d7c9f0-a55d-4d4b-9996-ab3710b47ef5",
   "metadata": {},
   "outputs": [],
   "source": []
  },
  {
   "cell_type": "code",
   "execution_count": null,
   "id": "c30da168-d41e-4ec9-8b41-31fbe89253fb",
   "metadata": {},
   "outputs": [],
   "source": []
  },
  {
   "cell_type": "code",
   "execution_count": null,
   "id": "e2bef284-021f-4c48-9f7e-f1b104fba23f",
   "metadata": {},
   "outputs": [],
   "source": []
  },
  {
   "cell_type": "code",
   "execution_count": null,
   "id": "2ee191be-bf62-4427-af39-cba607f1722a",
   "metadata": {},
   "outputs": [],
   "source": []
  },
  {
   "cell_type": "code",
   "execution_count": null,
   "id": "127e5112-e96b-47d7-a6d0-3fd1e72d684c",
   "metadata": {},
   "outputs": [],
   "source": []
  },
  {
   "cell_type": "code",
   "execution_count": 10,
   "id": "08f9037e-0016-4c0a-9f49-4a723efd91df",
   "metadata": {
    "execution": {
     "iopub.execute_input": "2022-05-25T01:49:20.904279Z",
     "iopub.status.busy": "2022-05-25T01:49:20.903827Z",
     "iopub.status.idle": "2022-05-25T01:49:20.954121Z",
     "shell.execute_reply": "2022-05-25T01:49:20.953254Z",
     "shell.execute_reply.started": "2022-05-25T01:49:20.904242Z"
    },
    "tags": []
   },
   "outputs": [
    {
     "name": "stderr",
     "output_type": "stream",
     "text": [
      "/home/ian/mambaforge/envs/pymm/lib/python3.10/site-packages/numpy/core/numeric.py:2449: FutureWarning: elementwise comparison failed; returning scalar instead, but in the future will perform elementwise comparison\n",
      "  return bool(asarray(a1 == a2).all())\n",
      "2022-05-24 21:49:20.922 | WARNING  | pymmcore_plus.mda._engine:_check_canceled:141 - MDA Canceled: Multi-Dimensional Acquisition ▶ nt: 3, np: 2, nc: 1, nz: 3\n",
      "2022-05-24 21:49:20.924 | INFO     | pymmcore_plus.mda._engine:_finish_run:234 - MDA Finished: Multi-Dimensional Acquisition ▶ nt: 3, np: 2, nc: 1, nz: 3\n",
      "/home/ian/mambaforge/envs/pymm/lib/python3.10/site-packages/numpy/core/numeric.py:2449: FutureWarning: elementwise comparison failed; returning scalar instead, but in the future will perform elementwise comparison\n",
      "  return bool(asarray(a1 == a2).all())\n"
     ]
    }
   ],
   "source": [
    "# actual_points = BroadcastablePoints(\n",
    "#     None, broadcast_dims=(2, 3), ndim=6, name=\"Actual points\", size=15, face_color=\"#aa0000ff\"\n",
    "# # )\n",
    "# cell_points = BroadcastablePoints(\n",
    "#     None,\n",
    "#     #               t, c, z\n",
    "#     broadcast_dims=(0, 2, 3),\n",
    "#     ndim=6,\n",
    "#     name=\"Cells\",\n",
    "#     size=15,\n",
    "#     face_color=\"#aa0000ff\",\n",
    "#     edge_color=\"#5500ffff\",\n",
    "# )\n",
    "# bkd_points = BroadcastablePoints(\n",
    "#     None,\n",
    "#     #               t, c, z\n",
    "#     broadcast_dims=(0, 2, 3),\n",
    "#     ndim=6,\n",
    "#     name=\"Bkd points\",\n",
    "#     size=15,\n",
    "#     face_color=\"#2d1f7f\",\n",
    "#     edge_color=\"#5500ffff\",\n",
    "# )"
   ]
  }
 ],
 "metadata": {
  "kernelspec": {
   "display_name": "Python 3 (ipykernel)",
   "language": "python",
   "name": "python3"
  },
  "language_info": {
   "codemirror_mode": {
    "name": "ipython",
    "version": 3
   },
   "file_extension": ".py",
   "mimetype": "text/x-python",
   "name": "python",
   "nbconvert_exporter": "python",
   "pygments_lexer": "ipython3",
   "version": "3.10.5"
  },
  "widgets": {
   "application/vnd.jupyter.widget-state+json": {
    "state": {},
    "version_major": 2,
    "version_minor": 0
   }
  }
 },
 "nbformat": 4,
 "nbformat_minor": 5
}
